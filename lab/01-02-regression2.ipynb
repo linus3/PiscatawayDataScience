{
 "cells": [
  {
   "cell_type": "markdown",
   "metadata": {},
   "source": [
    "### Additional Lab work - Your turn!\n",
    "\n",
    "* Prasanna Joshi\n",
    "* Rakesh Babu\n",
    "\n",
    "##### Data source,\n",
    "- https://www.eia.gov/totalenergy/data/browser/index.php?tbl=T09.01#/?f=A&start=1949&end=2016&charted=0-6\n",
    "- ../data/data2.csv"
   ]
  },
  {
   "cell_type": "markdown",
   "metadata": {},
   "source": [
    "### Task on hand,\n",
    "- Data: Crude oil prices\n",
    "- Load data\n",
    "- Clean data\n",
    "- Visualize data\n",
    "- Fit data\n",
    "- Prediction\n",
    "\n",
    "### Time ~ 15 minutes"
   ]
  },
  {
   "cell_type": "markdown",
   "metadata": {},
   "source": [
    "### Set up environment\n",
    "First, make sure that you import the libraries you'll need. In this case, you will want NumPy, Pandas, MatPlotLib.PyPlot, and sklearn.linear_model.LinearRegression. It's easiest to just copy the import statements from the regression1 notebook."
   ]
  },
  {
   "cell_type": "code",
   "execution_count": 1,
   "metadata": {
    "collapsed": true
   },
   "outputs": [],
   "source": [
    "# Put your code to import the libraries here.\n",
    "import matplotlib.pyplot as plt\n",
    "import numpy as np\n",
    "import pandas as pd\n",
    "from sklearn.linear_model import LinearRegression"
   ]
  },
  {
   "cell_type": "markdown",
   "metadata": {},
   "source": [
    "Next, you'll want to import the csv file using pandas. You should assign the file \"../data/data2.csv\" to a variable called oilData."
   ]
  },
  {
   "cell_type": "code",
   "execution_count": 2,
   "metadata": {
    "collapsed": true
   },
   "outputs": [],
   "source": [
    "# Put your code to load the data from our csv file here.\n",
    "oilData = pd.read_csv(\"../data/data2.csv\")"
   ]
  },
  {
   "cell_type": "code",
   "execution_count": 3,
   "metadata": {},
   "outputs": [
    {
     "data": {
      "text/html": [
       "<div>\n",
       "<style>\n",
       "    .dataframe thead tr:only-child th {\n",
       "        text-align: right;\n",
       "    }\n",
       "\n",
       "    .dataframe thead th {\n",
       "        text-align: left;\n",
       "    }\n",
       "\n",
       "    .dataframe tbody tr th {\n",
       "        vertical-align: top;\n",
       "    }\n",
       "</style>\n",
       "<table border=\"1\" class=\"dataframe\">\n",
       "  <thead>\n",
       "    <tr style=\"text-align: right;\">\n",
       "      <th></th>\n",
       "      <th>MSN</th>\n",
       "      <th>YYYYMM</th>\n",
       "      <th>Value</th>\n",
       "      <th>Column_Order</th>\n",
       "      <th>Description</th>\n",
       "      <th>Unit</th>\n",
       "    </tr>\n",
       "  </thead>\n",
       "  <tbody>\n",
       "    <tr>\n",
       "      <th>count</th>\n",
       "      <td>3141</td>\n",
       "      <td>3141</td>\n",
       "      <td>3141.000000</td>\n",
       "      <td>3141.000000</td>\n",
       "      <td>3141</td>\n",
       "      <td>3141</td>\n",
       "    </tr>\n",
       "    <tr>\n",
       "      <th>unique</th>\n",
       "      <td>6</td>\n",
       "      <td>526</td>\n",
       "      <td>NaN</td>\n",
       "      <td>NaN</td>\n",
       "      <td>6</td>\n",
       "      <td>1</td>\n",
       "    </tr>\n",
       "    <tr>\n",
       "      <th>top</th>\n",
       "      <td>COIMUUS</td>\n",
       "      <td>1975-04-01 00:00:00</td>\n",
       "      <td>NaN</td>\n",
       "      <td>NaN</td>\n",
       "      <td>Free on Board Cost of Crude Oil Imports</td>\n",
       "      <td>Dollars per Barrel</td>\n",
       "    </tr>\n",
       "    <tr>\n",
       "      <th>freq</th>\n",
       "      <td>525</td>\n",
       "      <td>6</td>\n",
       "      <td>NaN</td>\n",
       "      <td>NaN</td>\n",
       "      <td>525</td>\n",
       "      <td>3141</td>\n",
       "    </tr>\n",
       "    <tr>\n",
       "      <th>first</th>\n",
       "      <td>NaN</td>\n",
       "      <td>1973-10-01 00:00:00</td>\n",
       "      <td>NaN</td>\n",
       "      <td>NaN</td>\n",
       "      <td>NaN</td>\n",
       "      <td>NaN</td>\n",
       "    </tr>\n",
       "    <tr>\n",
       "      <th>last</th>\n",
       "      <td>NaN</td>\n",
       "      <td>2017-07-01 00:00:00</td>\n",
       "      <td>NaN</td>\n",
       "      <td>NaN</td>\n",
       "      <td>NaN</td>\n",
       "      <td>NaN</td>\n",
       "    </tr>\n",
       "    <tr>\n",
       "      <th>mean</th>\n",
       "      <td>NaN</td>\n",
       "      <td>NaN</td>\n",
       "      <td>35.037755</td>\n",
       "      <td>3.499522</td>\n",
       "      <td>NaN</td>\n",
       "      <td>NaN</td>\n",
       "    </tr>\n",
       "    <tr>\n",
       "      <th>std</th>\n",
       "      <td>NaN</td>\n",
       "      <td>NaN</td>\n",
       "      <td>27.778206</td>\n",
       "      <td>1.707164</td>\n",
       "      <td>NaN</td>\n",
       "      <td>NaN</td>\n",
       "    </tr>\n",
       "    <tr>\n",
       "      <th>min</th>\n",
       "      <td>NaN</td>\n",
       "      <td>NaN</td>\n",
       "      <td>4.240000</td>\n",
       "      <td>1.000000</td>\n",
       "      <td>NaN</td>\n",
       "      <td>NaN</td>\n",
       "    </tr>\n",
       "    <tr>\n",
       "      <th>25%</th>\n",
       "      <td>NaN</td>\n",
       "      <td>NaN</td>\n",
       "      <td>15.860000</td>\n",
       "      <td>2.000000</td>\n",
       "      <td>NaN</td>\n",
       "      <td>NaN</td>\n",
       "    </tr>\n",
       "    <tr>\n",
       "      <th>50%</th>\n",
       "      <td>NaN</td>\n",
       "      <td>NaN</td>\n",
       "      <td>25.050000</td>\n",
       "      <td>3.000000</td>\n",
       "      <td>NaN</td>\n",
       "      <td>NaN</td>\n",
       "    </tr>\n",
       "    <tr>\n",
       "      <th>75%</th>\n",
       "      <td>NaN</td>\n",
       "      <td>NaN</td>\n",
       "      <td>44.060000</td>\n",
       "      <td>5.000000</td>\n",
       "      <td>NaN</td>\n",
       "      <td>NaN</td>\n",
       "    </tr>\n",
       "    <tr>\n",
       "      <th>max</th>\n",
       "      <td>NaN</td>\n",
       "      <td>NaN</td>\n",
       "      <td>131.470000</td>\n",
       "      <td>6.000000</td>\n",
       "      <td>NaN</td>\n",
       "      <td>NaN</td>\n",
       "    </tr>\n",
       "  </tbody>\n",
       "</table>\n",
       "</div>"
      ],
      "text/plain": [
       "            MSN               YYYYMM        Value  Column_Order  \\\n",
       "count      3141                 3141  3141.000000   3141.000000   \n",
       "unique        6                  526          NaN           NaN   \n",
       "top     COIMUUS  1975-04-01 00:00:00          NaN           NaN   \n",
       "freq        525                    6          NaN           NaN   \n",
       "first       NaN  1973-10-01 00:00:00          NaN           NaN   \n",
       "last        NaN  2017-07-01 00:00:00          NaN           NaN   \n",
       "mean        NaN                  NaN    35.037755      3.499522   \n",
       "std         NaN                  NaN    27.778206      1.707164   \n",
       "min         NaN                  NaN     4.240000      1.000000   \n",
       "25%         NaN                  NaN    15.860000      2.000000   \n",
       "50%         NaN                  NaN    25.050000      3.000000   \n",
       "75%         NaN                  NaN    44.060000      5.000000   \n",
       "max         NaN                  NaN   131.470000      6.000000   \n",
       "\n",
       "                                    Description                Unit  \n",
       "count                                      3141                3141  \n",
       "unique                                        6                   1  \n",
       "top     Free on Board Cost of Crude Oil Imports  Dollars per Barrel  \n",
       "freq                                        525                3141  \n",
       "first                                       NaN                 NaN  \n",
       "last                                        NaN                 NaN  \n",
       "mean                                        NaN                 NaN  \n",
       "std                                         NaN                 NaN  \n",
       "min                                         NaN                 NaN  \n",
       "25%                                         NaN                 NaN  \n",
       "50%                                         NaN                 NaN  \n",
       "75%                                         NaN                 NaN  \n",
       "max                                         NaN                 NaN  "
      ]
     },
     "execution_count": 3,
     "metadata": {},
     "output_type": "execute_result"
    }
   ],
   "source": [
    "# This is some data cleaning which we haven't gone over.\n",
    "# You can ignore this for now, we'll revisit it in a future session.\n",
    "\n",
    "# Convert the Value field to a numeric.\n",
    "oilData[['Value']] = oilData[['Value']].apply(pd.to_numeric, errors=\"coerce\")\n",
    "\n",
    "# Cast the YYYYMM field to a date-time.\n",
    "oilData['YYYYMM'] = pd.to_datetime(oilData['YYYYMM'], format='%Y%m', errors='coerce')\n",
    "\n",
    "# Get rid of rows missing data. Most of the stuff we'll do from now on REALLY doesn't like having missing data\n",
    "oilData2 = oilData.dropna()\n",
    "\n",
    "# Print out a nice summary of the columns\n",
    "oilData2.describe(include = \"all\")\n"
   ]
  },
  {
   "cell_type": "markdown",
   "metadata": {
    "collapsed": true
   },
   "source": [
    "### Visually Explore the Data\n",
    "Now that we have the data, we'd like to see what it looks like, to make sure that a linear regression is a good idea. To do this, we'll plot YYYYMM as the x axis, and Value as the y axis."
   ]
  },
  {
   "cell_type": "code",
   "execution_count": 4,
   "metadata": {
    "scrolled": true
   },
   "outputs": [
    {
     "data": {
      "image/png": "[encoded data removed]",
      "text/plain": [
       "<matplotlib.figure.Figure at 0x674bcdd0>"
      ]
     },
     "metadata": {},
     "output_type": "display_data"
    }
   ],
   "source": [
    "# This is a way to plot data directly from the data frame without having to transform anything.\n",
    "# We'll learn more about it later.\n",
    "\n",
    "oilData2.plot(x='YYYYMM', y='Value')\n",
    "plt.show()"
   ]
  },
  {
   "cell_type": "markdown",
   "metadata": {
    "collapsed": true
   },
   "source": [
    "### Create the linear regression\n",
    "You can copy the example from the regression1 notebook and adapt it to work with our data here. Once again, X should be YYYYMM and y axis should be Value.\n",
    "\n",
    "Don't forget to change the column indexes when you assign values to X and y!"
   ]
  },
  {
   "cell_type": "code",
   "execution_count": 5,
   "metadata": {},
   "outputs": [
    {
     "name": "stdout",
     "output_type": "stream",
     "text": [
      "(3141,)\n",
      "(3141, 1)\n",
      "(3141,)\n"
     ]
    }
   ],
   "source": [
    "# Put your code to define X and y here.\n",
    "X = oilData2.iloc[:,1]\n",
    "print(X.shape)\n",
    "X = X.values.reshape(-1,1)\n",
    "print(X.shape)\n",
    "y = oilData2.iloc[:,2]\n",
    "print(y.shape)"
   ]
  },
  {
   "cell_type": "code",
   "execution_count": 6,
   "metadata": {},
   "outputs": [],
   "source": [
    "# You'll run into a little bit of trouble when trying to plot the data directly.\n",
    "# The code in this cell converts the datetimes into a numeric so we can run the linear regression.\n",
    "# This isn't strictly the correct thing to do, but it's quick and easy.\n",
    "# We'll learn the \"right\" way to do this in another session.\n",
    "\n",
    "X2 = np.zeros(X.shape)\n",
    "for i in range(0,X.shape[0]):\n",
    "    X2[i, 0] = X[i,0] - X[0,0]"
   ]
  },
  {
   "cell_type": "code",
   "execution_count": 7,
   "metadata": {},
   "outputs": [
    {
     "data": {
      "image/png": "[encoded data removed]",
      "text/plain": [
       "<matplotlib.figure.Figure at 0x674bccf0>"
      ]
     },
     "metadata": {},
     "output_type": "display_data"
    }
   ],
   "source": [
    "# Put your linear regression training and plotting code here\n",
    "\n",
    "oilLR = LinearRegression()\n",
    "oilLR.fit(X2,y)\n",
    "y2 = oilLR.predict(X2)\n",
    "\n",
    "plt.plot(X2, y, '.')\n",
    "plt.plot(X2, y2, '-')\n",
    "\n",
    "plt.show()"
   ]
  },
  {
   "cell_type": "code",
   "execution_count": null,
   "metadata": {
    "collapsed": true
   },
   "outputs": [],
   "source": []
  }
 ],
 "metadata": {
  "kernelspec": {
   "display_name": "Python 3",
   "language": "python",
   "name": "python3"
  },
  "language_info": {
   "codemirror_mode": {
    "name": "ipython",
    "version": 3
   },
   "file_extension": ".py",
   "mimetype": "text/x-python",
   "name": "python",
   "nbconvert_exporter": "python",
   "pygments_lexer": "ipython3",
   "version": "3.6.1"
  }
 },
 "nbformat": 4,
 "nbformat_minor": 2
}
