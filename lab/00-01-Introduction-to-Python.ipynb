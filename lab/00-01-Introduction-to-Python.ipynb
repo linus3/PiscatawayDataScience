{
 "cells": [
  {
   "cell_type": "markdown",
   "metadata": {},
   "source": [
    "# Piscataway Machine Learning Meetup\n",
    "## Introduction to Python 01\n",
    "Python is a scripting language which is very easy to learn. The syntax is very easy to grasp, which makes it very popular for programming novices. Thanks to the SciPy project, it is also very easy to solve machine learning problems with it!\n",
    "\n",
    "### Data Types\n",
    "All programming languages classify data into types. Understanding the differences between these data types will make programming MUCH easier.\n",
    " - **Integer**: Just like in arithmetic, integers are pretty much any number without a decimal point.\n",
    " - **Float**: Short for \"floating-point number\". Floats are pretty much any number WITH a decimal point.\n",
    " - **String**: Short for \"a string of characters\". Strings are any kind of text.\n",
    " - **Boolean**: Named after the mathematician George Boole, Boolean values are either True or False.\n",
    " - **List**: This is a list of values. Lists may only contain one type of data (you can have a list of integers, but not a list with a mix of integers and strings).\n",
    " - **Tuple**: This is a collection of values. It's like a list, but it can contain different data types, and it cannot be altered once created.\n",
    " - **None**: This signifies a missing value. It's equivalent to NULL in databases."
   ]
  },
  {
   "cell_type": "code",
   "execution_count": 1,
   "metadata": {},
   "outputs": [
    {
     "name": "stdout",
     "output_type": "stream",
     "text": [
      "<class 'int'>\n",
      "<class 'float'>\n",
      "<class 'str'>\n",
      "<class 'bool'>\n",
      "<class 'list'>\n",
      "<class 'tuple'>\n",
      "<class 'NoneType'>\n"
     ]
    }
   ],
   "source": [
    "# COMMENTS begin with a pound sign (#) and extend to the end of the line.\n",
    "# Comments are ignored by the computer. They are used to explain what the code is supposed to do.\n",
    "# It is best practice to use LOTS of comments. \n",
    "# That way, when you look back at your code, you can more quickly understand what you meant to do.\n",
    "\n",
    "# The type function tells us the data type of whatever value is passed to it.\n",
    "# The print function displays the output of whatever value is passed to it.\n",
    "# When used together, they will display the data type of whatever value is inside all of those parentheses.\n",
    "# We'll talk about functions in just a little bit.\n",
    "\n",
    "# Integer\n",
    "print(type(0))\n",
    "\n",
    "# Float\n",
    "print(type(1.2))\n",
    "\n",
    "# String\n",
    "print(type(\"Hello!\"))\n",
    "\n",
    "# Boolean\n",
    "print(type(True))\n",
    "\n",
    "# List\n",
    "print(type([1,2,3,4]))\n",
    "\n",
    "# Tuple\n",
    "print(type((1,\"b\",False)))\n",
    "\n",
    "# None\n",
    "print(type(None))\n"
   ]
  },
  {
   "cell_type": "markdown",
   "metadata": {
    "collapsed": true
   },
   "source": [
    "### Variables and assignment\n",
    "**Variables** are containers that can hold any values. As the name suggests, the value that they hold can change. When you make the variable hold a value, we say that you **assign** a value to the variable.\n",
    "\n",
    "Unlike in many other programming languages, variables are \"untyped\", meaning that you are allowed to assign different data types to the variable over the course of your program. Below, we assign an integer to myVariable, then assign a string to it."
   ]
  },
  {
   "cell_type": "code",
   "execution_count": 4,
   "metadata": {},
   "outputs": [
    {
     "name": "stdout",
     "output_type": "stream",
     "text": [
      "4\n",
      "5\n",
      "Hello!\n"
     ]
    }
   ],
   "source": [
    "myVariable = 4\n",
    "print(myVariable)\n",
    "# Can you take the code from the previous cell and show what the type of \"myVariable\" is?\n",
    "\n",
    "\n",
    "myVariable = 5\n",
    "print(myVariable)\n",
    "# Let's check the data type of myVariable again\n",
    "\n",
    "\n",
    "myVariable = \"Hello!\"\n",
    "print(myVariable)\n",
    "# Please check the data type of myVariable one more time\n",
    "\n",
    "\n",
    "# To run the code you've just written, press the \"Play\" button on the toolbar.\n",
    "# If we were not allowed to assign these values to myVariable, we would have seen an error below."
   ]
  },
  {
   "cell_type": "markdown",
   "metadata": {},
   "source": [
    "### Functions\n",
    "**Functions** are pieces of code that are \"saved\" and can be re-run whenever you need to. They help to organize your code so that you don't have to re-write the same thing over and over again. They can also be used for some advanced techniques such as recursion. You can create a function using the **`def`** keyword. You may also see the **`lambda`** keyword used to create small one-line functions.\n",
    "\n",
    "When you use a function in your code, we say that you **call** the function. To call a function, place a pair of parentheses after the function name. Functions can take values as input. Those values are called **parameters**, or **arguments**. When you provide a value to the function, we say that you **pass** a value to the function. In general, functions are only allowed to work with data that are passed in. To pass a parameter into a function, place it in the parentheses. There are rules surrounding what values you can pass and when, but it's easiest to learn these rules by imitating other peoples' code."
   ]
  },
  {
   "cell_type": "code",
   "execution_count": 11,
   "metadata": {},
   "outputs": [
    {
     "name": "stdout",
     "output_type": "stream",
     "text": [
      "6\n"
     ]
    }
   ],
   "source": [
    "# Earlier in the tutorial, we covered the print function. Print the String \"Hello, world!\"\n",
    "\n",
    "\n",
    "# We also covered the type function. Find the type of the String \"Hello, world!\"\n",
    "\n",
    "\n",
    "# Daisy-chaining functions in that manner is extremely useful when working with data.\n",
    "\n",
    "# We can also define our own functions. Here, I've written a simple 3-number added\n",
    "\n",
    "def ThreeNumberAdder (n1, n2, n3):\n",
    "    return n1 + n2 + n3\n",
    "\n",
    "# And now I can test it out:\n",
    "print(ThreeNumberAdder(1, 2, 3))"
   ]
  },
  {
   "cell_type": "code",
   "execution_count": 12,
   "metadata": {},
   "outputs": [],
   "source": [
    "# Copy that function below, and see if you can modify it to multiply 3 numbers instead.\n",
    "\n",
    "\n",
    "\n",
    "# You can test your ThreeNumberMultiplier below here.\n",
    "\n"
   ]
  },
  {
   "cell_type": "markdown",
   "metadata": {},
   "source": [
    "### Classes, modules, and packages\n",
    "In Python, you are allowed to create new data types. You can do this by creating a **class**. We won't actually create any classes, but just be aware that we will be using classes that other people have written. That means that we will be using more data types than just the integers, strings, booleans, etc. that we covered earlier.\n",
    "\n",
    "**Packages** are large collections of code which are designed to add features to a programming language. Packages are made up of smaller components caled **modules**. We will be using 6 main packages in our exploration of data science: NumPy, Pandas, SciPy, MatPlotLib, SciKit-Learn, and TensorFlow. These packages are all interrelated, so it can be hard to figure out which ones you need. Don't worry too much about the details right now. As you gain more experience, you will understand when to use what package. To use a package or module, you need to **import** it."
   ]
  },
  {
   "cell_type": "code",
   "execution_count": 10,
   "metadata": {
    "collapsed": true
   },
   "outputs": [],
   "source": [
    "# Usually we put these imports at the top of the file, so that it's easy to tell what packages are required\n",
    "\n",
    "import numpy as np                # This imports the entire package and lets us refer to it as np.\n",
    "import matplotlib.pyplot as plt   # This imports just pyplot from matplotlib and calls it plt.\n",
    "\n",
    "# Most tutorials will use these default import statements, so it's a good idea to always use these aliases.\n",
    "\n",
    "# Now try importing the pandas package and calling it pd.\n",
    "\n",
    "\n"
   ]
  },
  {
   "cell_type": "code",
   "execution_count": null,
   "metadata": {
    "collapsed": true
   },
   "outputs": [],
   "source": []
  }
 ],
 "metadata": {
  "kernelspec": {
   "display_name": "Python 3",
   "language": "python",
   "name": "python3"
  },
  "language_info": {
   "codemirror_mode": {
    "name": "ipython",
    "version": 3
   },
   "file_extension": ".py",
   "mimetype": "text/x-python",
   "name": "python",
   "nbconvert_exporter": "python",
   "pygments_lexer": "ipython3",
   "version": "3.6.1"
  }
 },
 "nbformat": 4,
 "nbformat_minor": 2
}
