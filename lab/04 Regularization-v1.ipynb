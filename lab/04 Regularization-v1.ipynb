{
 "cells": [
  {
   "cell_type": "markdown",
   "metadata": {},
   "source": [
    "# Piscataway Data Science\n",
    "Dec-07 2017\n",
    "\n",
    "<img src=\"../img/pds.png\" align=\"left\" alt=\"pds\">"
   ]
  },
  {
   "cell_type": "markdown",
   "metadata": {},
   "source": [
    "<font color=\"blue\">\n",
    "### Prasanna Joshi\n",
    "Big Data Architect<br>\n",
    "https://www.linkedin.com/in/prasannajoshi\n",
    "\n",
    "\n",
    "<font color=\"blue\">\n",
    "Meetup<br><font color=black>email:</font> gotokermit@gmail.com<br><font color=black>code: </font>github.com/piscataway<br>\n"
   ]
  },
  {
   "cell_type": "code",
   "execution_count": null,
   "metadata": {
    "collapsed": true
   },
   "outputs": [],
   "source": [
    "# Agenda"
   ]
  },
  {
   "cell_type": "markdown",
   "metadata": {},
   "source": [
    "### Presentation Topics @ 1 hour\n",
    "\n",
    "1. Regularization\n",
    "2. Random Forest\n",
    "3. Comparison of Scikit-Learn Logistic Regression Models\n",
    "\n",
    "### Q&A + Networking @ 1 hour"
   ]
  },
  {
   "cell_type": "code",
   "execution_count": 2,
   "metadata": {
    "collapsed": true
   },
   "outputs": [],
   "source": [
    "# "
   ]
  },
  {
   "cell_type": "markdown",
   "metadata": {},
   "source": [
    "# 1) Machine learning types"
   ]
  },
  {
   "cell_type": "markdown",
   "metadata": {},
   "source": [
    "<img src=\"../img/Figure%201.6.jpg\" align=\"middle\" alt=\"Figure 1.6\">"
   ]
  },
  {
   "cell_type": "markdown",
   "metadata": {},
   "source": [
    "# 2) Choosing the right technique"
   ]
  },
  {
   "cell_type": "markdown",
   "metadata": {},
   "source": [
    "<img src=\"../img/ml_map.png\" style=\"width:90%;height:90%\" align=\"left\" alt=\"ml_map\">\n"
   ]
  },
  {
   "cell_type": "markdown",
   "metadata": {},
   "source": [
    "<img src=\"../img/ml_map3.png\" style=\"width:90%;height:90%\" align=\"left\" alt=\"ml_map3\">\n",
    "https://twitter.com/thompson_wayne/status/853960000049381376"
   ]
  },
  {
   "cell_type": "markdown",
   "metadata": {
    "collapsed": true
   },
   "source": [
    "# 3) Boston housing dataset using Scikit-Learn"
   ]
  },
  {
   "cell_type": "code",
   "execution_count": 1,
   "metadata": {
    "collapsed": true
   },
   "outputs": [],
   "source": [
    "from sklearn.linear_model import LinearRegression\n",
    "import pandas as pd\n",
    "import numpy as np\n",
    "\n",
    "import matplotlib.pyplot as plt\n",
    "%matplotlib inline\n",
    "\n",
    "from sklearn.datasets import load_boston\n",
    "from sklearn.model_selection import train_test_split\n",
    "boston = load_boston()"
   ]
  },
  {
   "cell_type": "code",
   "execution_count": 2,
   "metadata": {},
   "outputs": [
    {
     "name": "stdout",
     "output_type": "stream",
     "text": [
      "Boston House Prices dataset\n",
      "===========================\n",
      "\n",
      "Notes\n",
      "------\n",
      "Data Set Characteristics:  \n",
      "\n",
      "    :Number of Instances: 506 \n",
      "\n",
      "    :Number of Attributes: 13 numeric/categorical predictive\n",
      "    \n",
      "    :Median Value (attribute 14) is usually the target\n",
      "\n",
      "    :Attribute Information (in order):\n",
      "        - CRIM     per capita crime rate by town\n",
      "        - ZN       proportion of residential land zoned for lots over 25,000 sq.ft.\n",
      "        - INDUS    proportion of non-retail business acres per town\n",
      "        - CHAS     Charles River dummy variable (= 1 if tract bounds river; 0 otherwise)\n",
      "        - NOX      nitric oxides concentration (parts per 10 million)\n",
      "        - RM       average number of rooms per dwelling\n",
      "        - AGE      proportion of owner-occupied units built prior to 1940\n",
      "        - DIS      weighted distances to five Boston employment centres\n",
      "        - RAD      index of accessibility to radial highways\n",
      "        - TAX      full-value property-tax rate per $10,000\n",
      "        - PTRATIO  pupil-teacher ratio by town\n",
      "        - B        1000(Bk - 0.63)^2 where Bk is the proportion of blacks by town\n",
      "        - LSTAT    % lower status of the population\n",
      "        - MEDV     Median value of owner-occupied homes in $1000's\n",
      "\n",
      "    :Missing Attribute Values: None\n",
      "\n",
      "    :Creator: Harrison, D. and Rubinfeld, D.L.\n",
      "\n",
      "This is a copy of UCI ML housing dataset.\n",
      "http://archive.ics.uci.edu/ml/datasets/Housing\n",
      "\n",
      "\n",
      "This dataset was taken from the StatLib library which is maintained at Carnegie Mellon University.\n",
      "\n",
      "The Boston house-price data of Harrison, D. and Rubinfeld, D.L. 'Hedonic\n",
      "prices and the demand for clean air', J. Environ. Economics & Management,\n",
      "vol.5, 81-102, 1978.   Used in Belsley, Kuh & Welsch, 'Regression diagnostics\n",
      "...', Wiley, 1980.   N.B. Various transformations are used in the table on\n",
      "pages 244-261 of the latter.\n",
      "\n",
      "The Boston house-price data has been used in many machine learning papers that address regression\n",
      "problems.   \n",
      "     \n",
      "**References**\n",
      "\n",
      "   - Belsley, Kuh & Welsch, 'Regression diagnostics: Identifying Influential Data and Sources of Collinearity', Wiley, 1980. 244-261.\n",
      "   - Quinlan,R. (1993). Combining Instance-Based and Model-Based Learning. In Proceedings on the Tenth International Conference of Machine Learning, 236-243, University of Massachusetts, Amherst. Morgan Kaufmann.\n",
      "   - many more! (see http://archive.ics.uci.edu/ml/datasets/Housing)\n",
      "\n"
     ]
    }
   ],
   "source": [
    "# describe the dataset\n",
    "print(boston.DESCR)"
   ]
  },
  {
   "cell_type": "code",
   "execution_count": 3,
   "metadata": {
    "collapsed": true
   },
   "outputs": [],
   "source": [
    "# Split into testing and training data sets\n",
    "xtrain, xtest, ytrain, ytest = train_test_split(boston.data, boston.target, train_size=0.75, test_size=0.25, random_state=2)"
   ]
  },
  {
   "cell_type": "code",
   "execution_count": 4,
   "metadata": {},
   "outputs": [
    {
     "name": "stdout",
     "output_type": "stream",
     "text": [
      "(506, 13)\n",
      "(379, 13)\n",
      "(379,)\n",
      "(127, 13)\n",
      "(127,)\n"
     ]
    }
   ],
   "source": [
    "print(boston.data.shape)\n",
    "print(xtrain.shape)\n",
    "print(ytrain.shape)\n",
    "print(xtest.shape)\n",
    "print(ytest.shape)"
   ]
  },
  {
   "cell_type": "code",
   "execution_count": 5,
   "metadata": {},
   "outputs": [
    {
     "data": {
      "text/plain": [
       "(array([  1.,   0.,   1.,   0.,   4.,   1.,   1.,   3.,   2.,   0.,   3.,\n",
       "          3.,   4.,   1.,   2.,   6.,   2.,   4.,  12.,   4.,   7.,   6.,\n",
       "          8.,   6.,   5.,   7.,   6.,   9.,   7.,   6.,  14.,  10.,  15.,\n",
       "         11.,  14.,   5.,  10.,   9.,  12.,  14.,  17.,  12.,   8.,  12.,\n",
       "         11.,   1.,   0.,   4.,   2.,   1.,   3.,   4.,   4.,   3.,   2.,\n",
       "          3.,   2.,   2.,   3.,   3.,   4.,   0.,   6.,   2.,   1.,   0.,\n",
       "          1.,   1.,   0.,   3.,   0.,   2.,   0.,   1.,   1.,   0.,   0.,\n",
       "          1.,   0.,   0.,   1.,   1.,   1.,   1.,   1.,   0.,   1.,   0.,\n",
       "          1.,   1.,   0.,   0.,   0.,   0.,   0.,   0.,   1.,   1.,   0.,\n",
       "         14.]),\n",
       " array([  5.  ,   5.45,   5.9 ,   6.35,   6.8 ,   7.25,   7.7 ,   8.15,\n",
       "          8.6 ,   9.05,   9.5 ,   9.95,  10.4 ,  10.85,  11.3 ,  11.75,\n",
       "         12.2 ,  12.65,  13.1 ,  13.55,  14.  ,  14.45,  14.9 ,  15.35,\n",
       "         15.8 ,  16.25,  16.7 ,  17.15,  17.6 ,  18.05,  18.5 ,  18.95,\n",
       "         19.4 ,  19.85,  20.3 ,  20.75,  21.2 ,  21.65,  22.1 ,  22.55,\n",
       "         23.  ,  23.45,  23.9 ,  24.35,  24.8 ,  25.25,  25.7 ,  26.15,\n",
       "         26.6 ,  27.05,  27.5 ,  27.95,  28.4 ,  28.85,  29.3 ,  29.75,\n",
       "         30.2 ,  30.65,  31.1 ,  31.55,  32.  ,  32.45,  32.9 ,  33.35,\n",
       "         33.8 ,  34.25,  34.7 ,  35.15,  35.6 ,  36.05,  36.5 ,  36.95,\n",
       "         37.4 ,  37.85,  38.3 ,  38.75,  39.2 ,  39.65,  40.1 ,  40.55,\n",
       "         41.  ,  41.45,  41.9 ,  42.35,  42.8 ,  43.25,  43.7 ,  44.15,\n",
       "         44.6 ,  45.05,  45.5 ,  45.95,  46.4 ,  46.85,  47.3 ,  47.75,\n",
       "         48.2 ,  48.65,  49.1 ,  49.55,  50.  ]),\n",
       " <a list of 100 Patch objects>)"
      ]
     },
     "execution_count": 5,
     "metadata": {},
     "output_type": "execute_result"
    },
    {
     "data": {
      "image/png": "[encoded data removed]",
      "text/plain": [
       "<matplotlib.figure.Figure at 0x1a08f9ca58>"
      ]
     },
     "metadata": {},
     "output_type": "display_data"
    }
   ],
   "source": [
    "plt.hist(ytrain, bins=100)"
   ]
  },
  {
   "cell_type": "code",
   "execution_count": 6,
   "metadata": {
    "collapsed": true
   },
   "outputs": [],
   "source": [
    "from ipywidgets import interact\n",
    "from scipy import stats\n",
    "\n",
    "# https://ipywidgets.readthedocs.io/en/latest/"
   ]
  },
  {
   "cell_type": "code",
   "execution_count": 7,
   "metadata": {},
   "outputs": [
    {
     "data": {
      "application/vnd.jupyter.widget-view+json": {
       "model_id": "57cf56d4f0464e2cb94b6ae3aa1a3f1c",
       "version_major": 2,
       "version_minor": 0
      },
      "text/html": [
       "<p>Failed to display Jupyter Widget of type <code>interactive</code>.</p>\n",
       "<p>\n",
       "  If you're reading this message in the Jupyter Notebook or JupyterLab Notebook, it may mean\n",
       "  that the widgets JavaScript is still loading. If this message persists, it\n",
       "  likely means that the widgets JavaScript library is either not installed or\n",
       "  not enabled. See the <a href=\"https://ipywidgets.readthedocs.io/en/stable/user_install.html\">Jupyter\n",
       "  Widgets Documentation</a> for setup instructions.\n",
       "</p>\n",
       "<p>\n",
       "  If you're reading this message in another frontend (for example, a static\n",
       "  rendering on GitHub or <a href=\"https://nbviewer.jupyter.org/\">NBViewer</a>),\n",
       "  it may mean that your frontend doesn't currently support widgets.\n",
       "</p>\n"
      ],
      "text/plain": [
       "interactive(children=(IntSlider(value=6, description='index', max=12), Output()), _dom_classes=('widget-interact',))"
      ]
     },
     "metadata": {},
     "output_type": "display_data"
    }
   ],
   "source": [
    "@interact(index=(0, xtrain.shape[1]-1))\n",
    "def plot_scatter(index):\n",
    "    fig, ax = plt.subplots()\n",
    "    x, y = xtrain[:, index], ytrain\n",
    "    ax.scatter(x,y)\n",
    "    ax.set_xlabel(boston.feature_names[index])\n",
    "    ax.set_ylabel(\"House Price\")\n",
    "    print(\"Correlation: {0[0]:.1} (p-value: {0[1]:.1})\".format(stats.pearsonr(x,y)))\n"
   ]
  },
  {
   "cell_type": "markdown",
   "metadata": {},
   "source": [
    "### 3.1) OLS "
   ]
  },
  {
   "cell_type": "code",
   "execution_count": 8,
   "metadata": {
    "collapsed": true
   },
   "outputs": [],
   "source": [
    "from sklearn import linear_model\n",
    "from sklearn import metrics\n"
   ]
  },
  {
   "cell_type": "code",
   "execution_count": 9,
   "metadata": {
    "collapsed": true
   },
   "outputs": [],
   "source": [
    "lr = linear_model.LinearRegression()\n",
    "lm = lr.fit(xtrain, ytrain)\n",
    "\n",
    "yhat = lm.predict(xtest)"
   ]
  },
  {
   "cell_type": "code",
   "execution_count": 10,
   "metadata": {},
   "outputs": [
    {
     "data": {
      "text/plain": [
       "<matplotlib.text.Text at 0x1a1ecabcf8>"
      ]
     },
     "execution_count": 10,
     "metadata": {},
     "output_type": "execute_result"
    },
    {
     "data": {
      "image/png": "[encoded data removed]",
      "text/plain": [
       "<matplotlib.figure.Figure at 0x11ad7cdd8>"
      ]
     },
     "metadata": {},
     "output_type": "display_data"
    }
   ],
   "source": [
    "plt.plot(yhat, ytest, '.')\n",
    "plt.plot([0,50], [0,50],'g-')\n",
    "plt.xlabel('actual')\n",
    "plt.ylabel('predicted')"
   ]
  },
  {
   "cell_type": "markdown",
   "metadata": {},
   "source": [
    "#### Performance Measures"
   ]
  },
  {
   "cell_type": "code",
   "execution_count": 11,
   "metadata": {},
   "outputs": [
    {
     "name": "stdout",
     "output_type": "stream",
     "text": [
      "MSE of Test Set:  22.1769750536\n",
      "RMSE of Test Set: 4.70924357552\n",
      "R2 - Coef. of Determination (1=Perfect Fit; 0=No explanatory Power) 0.750122586683\n"
     ]
    }
   ],
   "source": [
    "mse = metrics.mean_squared_error(ytest, yhat)\n",
    "print(\"MSE of Test Set: \", mse)\n",
    "\n",
    "rmse = np.sqrt(mse)\n",
    "print(\"RMSE of Test Set:\", rmse)\n",
    "\n",
    "r2score = metrics.r2_score(ytest, yhat)\n",
    "print (\"R2 - Coef. of Determination (1=Perfect Fit; 0=No explanatory Power)\", r2score)"
   ]
  },
  {
   "cell_type": "markdown",
   "metadata": {},
   "source": [
    "### 3.2) LASSO"
   ]
  },
  {
   "cell_type": "code",
   "execution_count": 12,
   "metadata": {
    "collapsed": true
   },
   "outputs": [],
   "source": [
    "import numpy as np\n",
    "from sklearn import linear_model as linear_model\n",
    "from sklearn import metrics\n"
   ]
  },
  {
   "cell_type": "code",
   "execution_count": 13,
   "metadata": {},
   "outputs": [
    {
     "name": "stdout",
     "output_type": "stream",
     "text": [
      "MSE (Train) : 26.8326619219\n",
      "MSE (Test)  : 26.1673448327\n",
      "R2 Score (Train): 0.676313819185\n",
      "R2 Score (Test) : 0.705161392645\n"
     ]
    }
   ],
   "source": [
    "# 1)\n",
    "model = linear_model.Lasso()\n",
    "lasso = model.fit(xtrain, ytrain)\n",
    "\n",
    "yhat_train = lasso.predict(xtrain)\n",
    "yhat_test  = lasso.predict(xtest)\n",
    "mse_train = metrics.mean_squared_error(ytrain, yhat_train)\n",
    "mse_test = metrics.mean_squared_error(ytest, yhat_test)\n",
    "r2score_train = metrics.r2_score(ytrain, yhat_train)\n",
    "r2score_test = metrics.r2_score(ytest, yhat_test)\n",
    "\n",
    "print(\"MSE (Train) :\", mse_train)\n",
    "print(\"MSE (Test)  :\", mse_test)\n",
    "print (\"R2 Score (Train):\", r2score_train)\n",
    "print (\"R2 Score (Test) :\", r2score_test)"
   ]
  },
  {
   "cell_type": "code",
   "execution_count": 14,
   "metadata": {},
   "outputs": [
    {
     "name": "stdout",
     "output_type": "stream",
     "text": [
      "MSE (Train) : 23.0400247825\n",
      "MSE (Test)  : 23.2355566906\n",
      "R2 Score (Train): 0.722064935286\n",
      "R2 Score (Test) : 0.738195096996\n"
     ]
    }
   ],
   "source": [
    "# 2) \n",
    "model = linear_model.Lasso(alpha=0.1)\n",
    "lasso = model.fit(xtrain, ytrain)\n",
    "\n",
    "yhat_train = lasso.predict(xtrain)\n",
    "yhat_test  = lasso.predict(xtest)\n",
    "mse_train = metrics.mean_squared_error(ytrain, yhat_train)\n",
    "mse_test = metrics.mean_squared_error(ytest, yhat_test)\n",
    "r2score_train = metrics.r2_score(ytrain, yhat_train)\n",
    "r2score_test = metrics.r2_score(ytest, yhat_test)\n",
    "\n",
    "print(\"MSE (Train) :\", mse_train)\n",
    "print(\"MSE (Test)  :\", mse_test)\n",
    "print (\"R2 Score (Train):\", r2score_train)\n",
    "print (\"R2 Score (Test) :\", r2score_test)"
   ]
  },
  {
   "cell_type": "code",
   "execution_count": 15,
   "metadata": {},
   "outputs": [
    {
     "name": "stdout",
     "output_type": "stream",
     "text": [
      "MSE (Train) : 23.5723525952\n",
      "MSE (Test)  : 23.1386256158\n",
      "R2 Score (Train): 0.715643389889\n",
      "R2 Score (Test) : 0.739287260656\n"
     ]
    }
   ],
   "source": [
    "# 3)\n",
    "model = linear_model.Lasso(normalize=True, alpha=0.01)\n",
    "lasso = model.fit(xtrain, ytrain)\n",
    "\n",
    "yhat_train = lasso.predict(xtrain)\n",
    "yhat_test  = lasso.predict(xtest)\n",
    "mse_train = metrics.mean_squared_error(ytrain, yhat_train)\n",
    "mse_test = metrics.mean_squared_error(ytest, yhat_test)\n",
    "r2score_train = metrics.r2_score(ytrain, yhat_train)\n",
    "r2score_test = metrics.r2_score(ytest, yhat_test)\n",
    "\n",
    "print(\"MSE (Train) :\", mse_train)\n",
    "print(\"MSE (Test)  :\", mse_test)\n",
    "print (\"R2 Score (Train):\", r2score_train)\n",
    "print (\"R2 Score (Test) :\", r2score_test)"
   ]
  },
  {
   "cell_type": "markdown",
   "metadata": {},
   "source": [
    "### 3.3) RIDGE"
   ]
  },
  {
   "cell_type": "code",
   "execution_count": 16,
   "metadata": {},
   "outputs": [
    {
     "name": "stdout",
     "output_type": "stream",
     "text": [
      "MSE (Train) : 22.4112809828\n",
      "MSE (Test)  : 22.2841751775\n",
      "R2 Score (Train): 0.729649560315\n",
      "R2 Score (Test) : 0.748914717278\n"
     ]
    }
   ],
   "source": [
    "model = linear_model.Ridge(normalize=True, alpha=.06)\n",
    "ridge = model.fit(xtrain, ytrain)\n",
    "\n",
    "yhat_train = ridge.predict(xtrain)\n",
    "yhat_test  = ridge.predict(xtest)\n",
    "mse_train = metrics.mean_squared_error(ytrain, yhat_train)\n",
    "mse_test = metrics.mean_squared_error(ytest, yhat_test)\n",
    "r2score_train = metrics.r2_score(ytrain, yhat_train)\n",
    "r2score_test = metrics.r2_score(ytest, yhat_test)\n",
    "\n",
    "print(\"MSE (Train) :\", mse_train)\n",
    "print(\"MSE (Test)  :\", mse_test)\n",
    "print (\"R2 Score (Train):\", r2score_train)\n",
    "print (\"R2 Score (Test) :\", r2score_test)"
   ]
  },
  {
   "cell_type": "code",
   "execution_count": 17,
   "metadata": {},
   "outputs": [
    {
     "name": "stdout",
     "output_type": "stream",
     "text": [
      "MSE (Train) : 22.109784137\n",
      "MSE (Test)  : 22.1427799908\n",
      "R2 Score (Train): 0.73328655924\n",
      "R2 Score (Test) : 0.750507877004\n"
     ]
    }
   ],
   "source": [
    "model = linear_model.ARDRegression()\n",
    "ardr = model.fit(xtrain, ytrain)\n",
    "\n",
    "yhat_train = ardr.predict(xtrain)\n",
    "yhat_test  = ardr.predict(xtest)\n",
    "mse_train = metrics.mean_squared_error(ytrain, yhat_train)\n",
    "mse_test = metrics.mean_squared_error(ytest, yhat_test)\n",
    "r2score_train = metrics.r2_score(ytrain, yhat_train)\n",
    "r2score_test = metrics.r2_score(ytest, yhat_test)\n",
    "\n",
    "print(\"MSE (Train) :\", mse_train)\n",
    "print(\"MSE (Test)  :\", mse_test)\n",
    "print (\"R2 Score (Train):\", r2score_train)\n",
    "print (\"R2 Score (Test) :\", r2score_test)"
   ]
  },
  {
   "cell_type": "markdown",
   "metadata": {},
   "source": [
    "### 3.4)  CV"
   ]
  },
  {
   "cell_type": "code",
   "execution_count": 18,
   "metadata": {},
   "outputs": [
    {
     "name": "stdout",
     "output_type": "stream",
     "text": [
      "MSE (Train) : 22.0417404215\n",
      "MSE (Test)  : 22.1581341071\n",
      "R2 Score (Train): 0.734107380166\n",
      "R2 Score (Test) : 0.750334875644\n"
     ]
    }
   ],
   "source": [
    "model = linear_model.LassoCV(normalize=True, cv = 20)\n",
    "lassocv = model.fit(xtrain, ytrain)\n",
    "\n",
    "yhat_train = lassocv.predict(xtrain)\n",
    "yhat_test  = lassocv.predict(xtest)\n",
    "mse_train = metrics.mean_squared_error(ytrain, yhat_train)\n",
    "mse_test = metrics.mean_squared_error(ytest, yhat_test)\n",
    "r2score_train = metrics.r2_score(ytrain, yhat_train)\n",
    "r2score_test = metrics.r2_score(ytest, yhat_test)\n",
    "\n",
    "print(\"MSE (Train) :\", mse_train)\n",
    "print(\"MSE (Test)  :\", mse_test)\n",
    "print (\"R2 Score (Train):\", r2score_train)\n",
    "print (\"R2 Score (Test) :\", r2score_test)"
   ]
  },
  {
   "cell_type": "markdown",
   "metadata": {},
   "source": [
    "### 3.5) RANDOM FOREST REGRESSOR"
   ]
  },
  {
   "cell_type": "code",
   "execution_count": 19,
   "metadata": {},
   "outputs": [
    {
     "name": "stdout",
     "output_type": "stream",
     "text": [
      "RandomForestRegressor(bootstrap=True, criterion='mse', max_depth=3,\n",
      "           max_features='auto', max_leaf_nodes=None,\n",
      "           min_impurity_decrease=0.0, min_impurity_split=None,\n",
      "           min_samples_leaf=1, min_samples_split=2,\n",
      "           min_weight_fraction_leaf=0.0, n_estimators=100, n_jobs=1,\n",
      "           oob_score=False, random_state=None, verbose=0, warm_start=False)\n",
      "MSE (Train) : 10.34938757\n",
      "MSE (Test)  : 15.4042905147\n",
      "R2 Score (Train): 0.875153879774\n",
      "R2 Score (Test) : 0.826433304881\n"
     ]
    }
   ],
   "source": [
    "from sklearn.ensemble import RandomForestRegressor\n",
    "model = RandomForestRegressor(n_estimators=100, max_depth=3)\n",
    "forest = model.fit(xtrain, ytrain)\n",
    "\n",
    "print(model)\n",
    "\n",
    "yhat_train = forest.predict(xtrain)\n",
    "yhat_test  = forest.predict(xtest)\n",
    "mse_train = metrics.mean_squared_error(ytrain, yhat_train)\n",
    "mse_test = metrics.mean_squared_error(ytest, yhat_test)\n",
    "r2score_train = metrics.r2_score(ytrain, yhat_train)\n",
    "r2score_test = metrics.r2_score(ytest, yhat_test)\n",
    "\n",
    "print(\"MSE (Train) :\", mse_train)\n",
    "print(\"MSE (Test)  :\", mse_test)\n",
    "print (\"R2 Score (Train):\", r2score_train)\n",
    "print (\"R2 Score (Test) :\", r2score_test)"
   ]
  },
  {
   "cell_type": "code",
   "execution_count": 20,
   "metadata": {},
   "outputs": [
    {
     "name": "stdout",
     "output_type": "stream",
     "text": [
      "Feature ranking:\n",
      "1. feature 12 (0.454015)\n",
      "2. feature 5 (0.423264)\n",
      "3. feature 7 (0.057600)\n",
      "4. feature 0 (0.022015)\n",
      "5. feature 4 (0.015791)\n",
      "6. feature 6 (0.006870)\n",
      "7. feature 9 (0.006217)\n",
      "8. feature 10 (0.006196)\n",
      "9. feature 11 (0.004084)\n",
      "10. feature 2 (0.002452)\n",
      "11. feature 8 (0.001117)\n",
      "12. feature 1 (0.000354)\n",
      "13. feature 3 (0.000025)\n"
     ]
    }
   ],
   "source": [
    "importances = forest.feature_importances_\n",
    "std = np.std([tree.feature_importances_ for tree in forest.estimators_], axis=0)\n",
    "indices = np.argsort(importances)[::-1]\n",
    "\n",
    "print(\"Feature ranking:\")\n",
    "\n",
    "for f in range(xtrain.shape[1]):\n",
    "    print(\"%d. feature %d (%f)\" % (f + 1, indices[f], importances[indices[f]]))"
   ]
  },
  {
   "cell_type": "code",
   "execution_count": 21,
   "metadata": {},
   "outputs": [
    {
     "data": {
      "image/png": "[encoded data removed]",
      "text/plain": [
       "<matplotlib.figure.Figure at 0x1a1ecff908>"
      ]
     },
     "metadata": {},
     "output_type": "display_data"
    }
   ],
   "source": [
    "plt.figure(figsize=(8,5))\n",
    "plt.title(\"Feature importances\")\n",
    "plt.bar(range(xtrain.shape[1]), importances[indices], color=\"r\", yerr=std[indices], align=\"center\")\n",
    "plt.xticks(range(xtrain.shape[1]), indices)\n",
    "plt.xlim([-1, xtrain.shape[1]])\n",
    "plt.show()"
   ]
  },
  {
   "cell_type": "markdown",
   "metadata": {
    "collapsed": true
   },
   "source": [
    "## 4) Regularization"
   ]
  },
  {
   "cell_type": "code",
   "execution_count": 22,
   "metadata": {
    "collapsed": true
   },
   "outputs": [],
   "source": [
    "import numpy as np\n",
    "\n",
    "from sklearn import datasets\n",
    "from sklearn import linear_model\n",
    "from sklearn import metrics\n",
    "\n",
    "import matplotlib.pyplot as plt\n",
    "%matplotlib inline\n",
    "\n",
    "from sklearn.datasets import load_boston\n",
    "from sklearn.model_selection import train_test_split\n",
    "boston = load_boston()\n",
    "\n",
    "xdata, ydata = datasets.make_regression(n_samples=50, n_features=50, n_informative=10)\n",
    "xtrain, xtest, ytrain, ytest = train_test_split(xdata, ydata, train_size=0.75, test_size=0.25)"
   ]
  },
  {
   "cell_type": "markdown",
   "metadata": {},
   "source": [
    "#### 4.1) OLS"
   ]
  },
  {
   "cell_type": "code",
   "execution_count": 23,
   "metadata": {},
   "outputs": [
    {
     "name": "stdout",
     "output_type": "stream",
     "text": [
      "MSE (Train):  1.3509358133e-25\n",
      "MSE (Test) :  13797.8145005\n",
      "Model Score (Train): 1.0\n",
      "Model Score (Test) : 0.560876763673\n"
     ]
    }
   ],
   "source": [
    "model = linear_model.LinearRegression()\n",
    "ols   = model.fit(xtrain, ytrain)\n",
    "\n",
    "yhat_train = ols.predict(xtrain)\n",
    "yhat_test  = ols.predict(xtest)\n",
    "\n",
    "mse_train  = metrics.mean_squared_error(ytrain, yhat_train)\n",
    "mse_test   = metrics.mean_squared_error(ytest, yhat_test)\n",
    "\n",
    "print(\"MSE (Train): \", mse_train)\n",
    "print(\"MSE (Test) : \", mse_test)\n",
    "print(\"Model Score (Train):\", model.score(xtrain, ytrain))\n",
    "print(\"Model Score (Test) :\", model.score(xtest,  ytest))"
   ]
  },
  {
   "cell_type": "markdown",
   "metadata": {},
   "source": [
    "#### 4.2) Ridge"
   ]
  },
  {
   "cell_type": "code",
   "execution_count": 24,
   "metadata": {},
   "outputs": [
    {
     "name": "stdout",
     "output_type": "stream",
     "text": [
      "MSE (Train):  204.178064479\n",
      "MSE (Test) :  14005.1988978\n",
      "Model Score (Train): 0.995688544776\n",
      "Model Score (Test) : 0.554276638145\n"
     ]
    }
   ],
   "source": [
    "model = linear_model.Ridge(alpha=2.5)\n",
    "ridge = model.fit(xtrain, ytrain)\n",
    "\n",
    "yhat_train = ridge.predict(xtrain)\n",
    "yhat_test  = ridge.predict(xtest)\n",
    "\n",
    "mse_train  = metrics.mean_squared_error(ytrain, yhat_train)\n",
    "mse_test   = metrics.mean_squared_error(ytest, yhat_test)\n",
    "\n",
    "print(\"MSE (Train): \", mse_train)\n",
    "print(\"MSE (Test) : \", mse_test)\n",
    "print(\"Model Score (Train):\", model.score(xtrain, ytrain))\n",
    "print(\"Model Score (Test) :\", model.score(xtest,  ytest))"
   ]
  },
  {
   "cell_type": "markdown",
   "metadata": {},
   "source": [
    "#### 4.3) Lasso"
   ]
  },
  {
   "cell_type": "code",
   "execution_count": 25,
   "metadata": {},
   "outputs": [
    {
     "name": "stdout",
     "output_type": "stream",
     "text": [
      "MSE (Train):  15.2401636023\n",
      "MSE (Test) :  20.8617891236\n",
      "Model Score (Train): 0.999678186375\n",
      "Model Score (Test) : 0.999336061783\n"
     ]
    }
   ],
   "source": [
    "model = linear_model.Lasso(alpha=1.0)\n",
    "lasso = model.fit(xtrain, ytrain)\n",
    "\n",
    "yhat_train = lasso.predict(xtrain)\n",
    "yhat_test  = lasso.predict(xtest)\n",
    "\n",
    "mse_train  = metrics.mean_squared_error(ytrain, yhat_train)\n",
    "mse_test   = metrics.mean_squared_error(ytest, yhat_test)\n",
    "\n",
    "print(\"MSE (Train): \", mse_train)\n",
    "print(\"MSE (Test) : \", mse_test)\n",
    "print(\"Model Score (Train):\", model.score(xtrain, ytrain))\n",
    "print(\"Model Score (Test) :\", model.score(xtest,  ytest))"
   ]
  },
  {
   "cell_type": "code",
   "execution_count": null,
   "metadata": {
    "collapsed": true
   },
   "outputs": [],
   "source": []
  },
  {
   "cell_type": "code",
   "execution_count": 26,
   "metadata": {
    "collapsed": true
   },
   "outputs": [],
   "source": [
    "alphas = np.logspace(-4, 3, 200)\n",
    "#alphas = np.linspace(-0.9, 0.9, 200)\n",
    "coeffs = np.zeros((len(alphas), xtrain.shape[1]))\n",
    "mse_train = np.zeros_like(alphas)\n",
    "mse_test = np.zeros_like(alphas)\n",
    "\n",
    "for n, alpha in enumerate(alphas):\n",
    "    model = linear_model.Lasso(alpha=alpha, tol=0.001)\n",
    "    #model = linear_model.Ridge(alpha=alpha)\n",
    "    model.fit(xtrain, ytrain)\n",
    "    coeffs[n, :] = model.coef_\n",
    "    mse_train[n] = metrics.mean_squared_error(ytrain, model.predict(xtrain))\n",
    "    mse_test[n] = metrics.mean_squared_error(ytest, model.predict(xtest))\n",
    "    "
   ]
  },
  {
   "cell_type": "code",
   "execution_count": 27,
   "metadata": {},
   "outputs": [
    {
     "data": {
      "text/plain": [
       "<matplotlib.text.Text at 0x1a1ffffc50>"
      ]
     },
     "execution_count": 27,
     "metadata": {},
     "output_type": "execute_result"
    },
    {
     "data": {
      "image/png": "[encoded data removed]",
      "text/plain": [
       "<matplotlib.figure.Figure at 0x1a1fec4cc0>"
      ]
     },
     "metadata": {},
     "output_type": "display_data"
    }
   ],
   "source": [
    "fig, axes = plt.subplots(1, 2, figsize=(15, 5), sharex=True)\n",
    "for n in range(coeffs.shape[1]):\n",
    "    axes[0].plot(np.log10(alphas), coeffs[:, n], color='k', lw=0.5)\n",
    "    #axes[0].plot(alphas, coeffs[:, n], color='k', lw=0.5)\n",
    "        \n",
    "#axes[1].semilogy(alphas, mse_train, label=\"train\")\n",
    "axes[1].semilogy(np.log10(alphas), mse_train, label=\"train\")\n",
    "#axes[1].semilogy(alphas, mse_test, label=\"test\")\n",
    "axes[1].semilogy(np.log10(alphas), mse_test, label=\"test\")\n",
    "axes[1].legend(loc=0)\n",
    "\n",
    "axes[0].set_xlabel(\"log-alpha\", fontsize=15)\n",
    "axes[0].set_ylabel(\"coefficients\", fontsize=15)\n",
    "\n",
    "axes[1].set_xlabel(\"log-alpha\", fontsize=15)\n",
    "axes[1].set_ylabel(r\"mse\", fontsize=15)"
   ]
  },
  {
   "cell_type": "code",
   "execution_count": null,
   "metadata": {
    "collapsed": true
   },
   "outputs": [],
   "source": []
  },
  {
   "cell_type": "code",
   "execution_count": 28,
   "metadata": {},
   "outputs": [
    {
     "name": "stdout",
     "output_type": "stream",
     "text": [
      "MSE (Train):  0.282325369318\n",
      "MSE (Test) :  0.205230760238\n",
      "MSE (Data) :  0.262280770957\n",
      "Model Score (Train): 0.999994038374\n",
      "Model Score (Test) : 0.999993468415\n",
      "Model Score (Data) : 0.999993932518\n"
     ]
    }
   ],
   "source": [
    "# LASSO-CV\n",
    "\n",
    "model = linear_model.LassoCV()\n",
    "lassocv = model.fit(xdata, ydata)\n",
    "\n",
    "yhat_train = lassocv.predict(xtrain)\n",
    "yhat_test  = lassocv.predict(xtest)\n",
    "yhat_data  = lassocv.predict(xdata)\n",
    "\n",
    "mse_train  = metrics.mean_squared_error(ytrain, yhat_train)\n",
    "mse_test   = metrics.mean_squared_error(ytest, yhat_test)\n",
    "mse_data   = metrics.mean_squared_error(ydata, yhat_data)\n",
    "\n",
    "print(\"MSE (Train): \", mse_train)\n",
    "print(\"MSE (Test) : \", mse_test)\n",
    "print(\"MSE (Data) : \", mse_data)\n",
    "print(\"Model Score (Train):\", model.score(xtrain, ytrain))\n",
    "print(\"Model Score (Test) :\", model.score(xtest,  ytest))\n",
    "print(\"Model Score (Data) :\", model.score(xdata,  ydata))"
   ]
  },
  {
   "cell_type": "code",
   "execution_count": 29,
   "metadata": {},
   "outputs": [
    {
     "name": "stdout",
     "output_type": "stream",
     "text": [
      "Alpha =  0.130252952693\n",
      "Log-Alpha =  -0.885212422931\n"
     ]
    }
   ],
   "source": [
    "print(\"Alpha = \", model.alpha_)\n",
    "print(\"Log-Alpha = \" , np.log10(model.alpha_))"
   ]
  },
  {
   "cell_type": "code",
   "execution_count": 30,
   "metadata": {},
   "outputs": [
    {
     "name": "stdout",
     "output_type": "stream",
     "text": [
      "MSE (Data) :  888.589637034\n",
      "Model Score (Data) : 0.979443776881\n"
     ]
    }
   ],
   "source": [
    "# ELASTICNET-CV\n",
    "\n",
    "model = linear_model.ElasticNetCV()\n",
    "elasticnetcv = model.fit(xdata, ydata)\n",
    "\n",
    "yhat_data  = elasticnetcv.predict(xdata)\n",
    "mse_data   = metrics.mean_squared_error(ydata, yhat_data)\n",
    "\n",
    "print(\"MSE (Data) : \", mse_data)\n",
    "print(\"Model Score (Data) :\", model.score(xdata,  ydata))\n"
   ]
  },
  {
   "cell_type": "code",
   "execution_count": 31,
   "metadata": {},
   "outputs": [
    {
     "name": "stdout",
     "output_type": "stream",
     "text": [
      "0.260505905387\n",
      "0.5\n"
     ]
    }
   ],
   "source": [
    "print(model.alpha_)\n",
    "print(model.l1_ratio)\n"
   ]
  },
  {
   "cell_type": "code",
   "execution_count": 32,
   "metadata": {
    "collapsed": true
   },
   "outputs": [],
   "source": [
    "# .. keep exploring!"
   ]
  },
  {
   "cell_type": "code",
   "execution_count": null,
   "metadata": {
    "collapsed": true
   },
   "outputs": [],
   "source": []
  }
 ],
 "metadata": {
  "kernelspec": {
   "display_name": "Python 3",
   "language": "python",
   "name": "python3"
  },
  "language_info": {
   "codemirror_mode": {
    "name": "ipython",
    "version": 3
   },
   "file_extension": ".py",
   "mimetype": "text/x-python",
   "name": "python",
   "nbconvert_exporter": "python",
   "pygments_lexer": "ipython3",
   "version": "3.6.2"
  }
 },
 "nbformat": 4,
 "nbformat_minor": 2
}
